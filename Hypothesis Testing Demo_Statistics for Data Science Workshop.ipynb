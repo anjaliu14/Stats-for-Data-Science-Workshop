{
 "cells": [
  {
   "cell_type": "markdown",
   "metadata": {
    "colab_type": "text",
    "id": "5y-jKz6S7cLA"
   },
   "source": [
    "# Hypothesis Testing Demonstration"
   ]
  },
  {
   "cell_type": "code",
   "execution_count": 27,
   "metadata": {
    "colab": {},
    "colab_type": "code",
    "id": "x8J9q0k7qww3"
   },
   "outputs": [],
   "source": [
    "import pandas as pd\n",
    "import numpy as np\n",
    "import matplotlib.pyplot as plt"
   ]
  },
  {
   "cell_type": "markdown",
   "metadata": {
    "colab_type": "text",
    "id": "9GBSUw3TXHPu"
   },
   "source": [
    "Our dataset comes from Kaggle and contains information about the student, including their identity, education level, and test scores. Let's load it in using pandas and display the first couple of rows. "
   ]
  },
  {
   "cell_type": "code",
   "execution_count": 5,
   "metadata": {
    "colab": {
     "base_uri": "https://localhost:8080/",
     "height": 204
    },
    "colab_type": "code",
    "id": "R-As6LEwxeO3",
    "outputId": "a81bb6c1-ec61-448e-e7c2-8b7df6754f58"
   },
   "outputs": [
    {
     "data": {
      "text/html": [
       "<div>\n",
       "<style scoped>\n",
       "    .dataframe tbody tr th:only-of-type {\n",
       "        vertical-align: middle;\n",
       "    }\n",
       "\n",
       "    .dataframe tbody tr th {\n",
       "        vertical-align: top;\n",
       "    }\n",
       "\n",
       "    .dataframe thead th {\n",
       "        text-align: right;\n",
       "    }\n",
       "</style>\n",
       "<table border=\"1\" class=\"dataframe\">\n",
       "  <thead>\n",
       "    <tr style=\"text-align: right;\">\n",
       "      <th></th>\n",
       "      <th>gender</th>\n",
       "      <th>race/ethnicity</th>\n",
       "      <th>parental level of education</th>\n",
       "      <th>lunch</th>\n",
       "      <th>test preparation course</th>\n",
       "      <th>math score</th>\n",
       "      <th>reading score</th>\n",
       "      <th>writing score</th>\n",
       "    </tr>\n",
       "  </thead>\n",
       "  <tbody>\n",
       "    <tr>\n",
       "      <th>0</th>\n",
       "      <td>female</td>\n",
       "      <td>group B</td>\n",
       "      <td>bachelor's degree</td>\n",
       "      <td>standard</td>\n",
       "      <td>none</td>\n",
       "      <td>72</td>\n",
       "      <td>72</td>\n",
       "      <td>74</td>\n",
       "    </tr>\n",
       "    <tr>\n",
       "      <th>1</th>\n",
       "      <td>female</td>\n",
       "      <td>group C</td>\n",
       "      <td>some college</td>\n",
       "      <td>standard</td>\n",
       "      <td>completed</td>\n",
       "      <td>69</td>\n",
       "      <td>90</td>\n",
       "      <td>88</td>\n",
       "    </tr>\n",
       "    <tr>\n",
       "      <th>2</th>\n",
       "      <td>female</td>\n",
       "      <td>group B</td>\n",
       "      <td>master's degree</td>\n",
       "      <td>standard</td>\n",
       "      <td>none</td>\n",
       "      <td>90</td>\n",
       "      <td>95</td>\n",
       "      <td>93</td>\n",
       "    </tr>\n",
       "    <tr>\n",
       "      <th>3</th>\n",
       "      <td>male</td>\n",
       "      <td>group A</td>\n",
       "      <td>associate's degree</td>\n",
       "      <td>free/reduced</td>\n",
       "      <td>none</td>\n",
       "      <td>47</td>\n",
       "      <td>57</td>\n",
       "      <td>44</td>\n",
       "    </tr>\n",
       "    <tr>\n",
       "      <th>4</th>\n",
       "      <td>male</td>\n",
       "      <td>group C</td>\n",
       "      <td>some college</td>\n",
       "      <td>standard</td>\n",
       "      <td>none</td>\n",
       "      <td>76</td>\n",
       "      <td>78</td>\n",
       "      <td>75</td>\n",
       "    </tr>\n",
       "  </tbody>\n",
       "</table>\n",
       "</div>"
      ],
      "text/plain": [
       "   gender race/ethnicity parental level of education         lunch  \\\n",
       "0  female        group B           bachelor's degree      standard   \n",
       "1  female        group C                some college      standard   \n",
       "2  female        group B             master's degree      standard   \n",
       "3    male        group A          associate's degree  free/reduced   \n",
       "4    male        group C                some college      standard   \n",
       "\n",
       "  test preparation course  math score  reading score  writing score  \n",
       "0                    none          72             72             74  \n",
       "1               completed          69             90             88  \n",
       "2                    none          90             95             93  \n",
       "3                    none          47             57             44  \n",
       "4                    none          76             78             75  "
      ]
     },
     "execution_count": 5,
     "metadata": {},
     "output_type": "execute_result"
    }
   ],
   "source": [
    "scores = pd.read_csv(\"StudentsPerformance.csv\")\n",
    "scores.head(5)\n"
   ]
  },
  {
   "cell_type": "markdown",
   "metadata": {
    "colab_type": "text",
    "id": "fyxuo8jmXYqX"
   },
   "source": [
    "The 'test preparation course' column contains the unique values 'none' and 'completed', depending on whether or not the student has completed test preparation. "
   ]
  },
  {
   "cell_type": "code",
   "execution_count": 6,
   "metadata": {
    "colab": {
     "base_uri": "https://localhost:8080/",
     "height": 119
    },
    "colab_type": "code",
    "id": "PBTNF9QOx7Dp",
    "outputId": "44159c9b-66b0-4664-8932-230439448276"
   },
   "outputs": [
    {
     "data": {
      "text/plain": [
       "0         none\n",
       "1    completed\n",
       "2         none\n",
       "3         none\n",
       "4         none\n",
       "Name: test preparation course, dtype: object"
      ]
     },
     "execution_count": 6,
     "metadata": {},
     "output_type": "execute_result"
    }
   ],
   "source": [
    "test_prep = scores['test preparation course']\n",
    "test_prep.head(5)"
   ]
  },
  {
   "cell_type": "markdown",
   "metadata": {
    "colab_type": "text",
    "id": "tnFX1aAYXvZ4"
   },
   "source": [
    "The 'writing score' column contains individual data on student writing  scores"
   ]
  },
  {
   "cell_type": "code",
   "execution_count": 7,
   "metadata": {
    "colab": {
     "base_uri": "https://localhost:8080/",
     "height": 119
    },
    "colab_type": "code",
    "id": "yTM91Ebg1R1s",
    "outputId": "0b2c4438-727f-4cf7-c060-0587bd2538c3"
   },
   "outputs": [
    {
     "data": {
      "text/plain": [
       "0    74\n",
       "1    88\n",
       "2    93\n",
       "3    44\n",
       "4    75\n",
       "Name: writing score, dtype: int64"
      ]
     },
     "execution_count": 7,
     "metadata": {},
     "output_type": "execute_result"
    }
   ],
   "source": [
    "writing_scores = scores[\"writing score\"]\n",
    "writing_scores.head(5)"
   ]
  },
  {
   "cell_type": "markdown",
   "metadata": {
    "colab_type": "text",
    "id": "xRNvhP9OX5qM"
   },
   "source": [
    "Let's split up the test preparation course column into two series, one with those students who completed test prep and those who didn't"
   ]
  },
  {
   "cell_type": "code",
   "execution_count": 8,
   "metadata": {
    "colab": {},
    "colab_type": "code",
    "id": "cEuf9H4U5t1E"
   },
   "outputs": [],
   "source": [
    "completed_scores = scores[scores['test preparation course'] == 'completed']['reading score']\n",
    "not_completed_scores = scores[scores['test preparation course'] == 'none']['reading score']"
   ]
  },
  {
   "cell_type": "markdown",
   "metadata": {
    "colab_type": "text",
    "id": "Og9mr70mYEy7"
   },
   "source": [
    "Let's visualize the reading scores between those who completed test prep versus those who didn't. Here are the two histograms:"
   ]
  },
  {
   "cell_type": "code",
   "execution_count": 15,
   "metadata": {
    "colab": {
     "base_uri": "https://localhost:8080/",
     "height": 429
    },
    "colab_type": "code",
    "id": "2NOmbgeL2qVi",
    "outputId": "d9214bd4-abca-4e6b-e893-a19b28d66dcb"
   },
   "outputs": [
    {
     "name": "stderr",
     "output_type": "stream",
     "text": [
      "/Users/anjaliunnithan/anaconda3/lib/python3.6/site-packages/matplotlib/axes/_axes.py:6462: UserWarning: The 'normed' kwarg is deprecated, and has been replaced by the 'density' kwarg.\n",
      "  warnings.warn(\"The 'normed' kwarg is deprecated, and has been \"\n",
      "/Users/anjaliunnithan/anaconda3/lib/python3.6/site-packages/matplotlib/axes/_axes.py:6462: UserWarning: The 'normed' kwarg is deprecated, and has been replaced by the 'density' kwarg.\n",
      "  warnings.warn(\"The 'normed' kwarg is deprecated, and has been \"\n"
     ]
    },
    {
     "data": {
      "text/plain": [
       "<matplotlib.legend.Legend at 0x1a1bbca550>"
      ]
     },
     "execution_count": 15,
     "metadata": {},
     "output_type": "execute_result"
    },
    {
     "data": {
      "image/png": "[encoded data removed]",
      "text/plain": [
       "<Figure size 432x288 with 1 Axes>"
      ]
     },
     "metadata": {},
     "output_type": "display_data"
    }
   ],
   "source": [
    "import seaborn as sns\n",
    "sns.distplot(completed_scores, color=\"skyblue\", label=\"Test Prep Completed\")\n",
    "sns.distplot(not_completed_scores, color=\"green\", label=\"Test Prep Not Completed\")\n",
    "plt.legend()"
   ]
  },
  {
   "cell_type": "markdown",
   "metadata": {
    "colab_type": "text",
    "id": "qGkDth_3ed6E"
   },
   "source": [
    "**We would like to see whether whether test preparation was associated with reading scores. To set up our hypothesis test, we can represent the two views of the world using the following null and alternative hypotheses:**\n",
    "\n",
    "Null hypothesis: In the population, the distribution of reading scores for those who completed test prep is the same for those who didn't complete test prep. The difference in the sample is due to chance.\n",
    "\n",
    "Alternative hypothesis: In the population, the students who completed test preparation have higher reading scores, on average, than those who didn't complete test prep. The observed difference is \"real\". This is what would be considered a one-sided alternative hypothesis. (Two-sided would be something like \"the distributions are different, not necessarily greater or less than\")"
   ]
  },
  {
   "cell_type": "markdown",
   "metadata": {
    "colab_type": "text",
    "id": "C2WQZwT6YSlC"
   },
   "source": [
    "We want our test statistic to be the difference between the mean completed score and mean none score based on our original data. The value below is our \"observed value\" of the test statistic. Large positive values of this statistic will favor the alternative hypothesis. "
   ]
  },
  {
   "cell_type": "code",
   "execution_count": 26,
   "metadata": {
    "colab": {
     "base_uri": "https://localhost:8080/",
     "height": 34
    },
    "colab_type": "code",
    "id": "7Xu8MGHS6Ss9",
    "outputId": "06cd1988-d032-4d56-da3a-bb7516438535"
   },
   "outputs": [
    {
     "data": {
      "text/plain": [
       "7.359586835830754"
      ]
     },
     "execution_count": 26,
     "metadata": {},
     "output_type": "execute_result"
    }
   ],
   "source": [
    "observed_difference = np.mean(completed_scores) - np.mean(not_completed_scores)\n",
    "observed_difference "
   ]
  },
  {
   "cell_type": "markdown",
   "metadata": {
    "colab_type": "text",
    "id": "S9nJ-NYWhelR"
   },
   "source": [
    "If there were really no difference between the two distributions in the underlying population, then whether each test preparation was completed or not by the student shouldn't affect their reading score, therefore should make no difference to the average. \n",
    "\n",
    "To investigate this more, we will simulate the test statistic under the null hypothesis. Let's shuffle all the reading scores randomly among the students We conduct this random permutation below."
   ]
  },
  {
   "cell_type": "code",
   "execution_count": 17,
   "metadata": {
    "colab": {},
    "colab_type": "code",
    "id": "Hmk2QxV83Wb0"
   },
   "outputs": [],
   "source": [
    "def shuffle(series):\n",
    "    '''\n",
    "    Shuffles a series and resets index to preserve shuffle when adding series\n",
    "    back to DataFrame.\n",
    "    '''\n",
    "    return series.sample(frac=1, replace=False).reset_index(drop=True)"
   ]
  },
  {
   "cell_type": "code",
   "execution_count": 18,
   "metadata": {
    "colab": {
     "base_uri": "https://localhost:8080/",
     "height": 221
    },
    "colab_type": "code",
    "id": "3ThfAR2q3aGP",
    "outputId": "ba36da52-048d-4db1-96d1-232848ff67c3"
   },
   "outputs": [
    {
     "data": {
      "text/html": [
       "<div>\n",
       "<style scoped>\n",
       "    .dataframe tbody tr th:only-of-type {\n",
       "        vertical-align: middle;\n",
       "    }\n",
       "\n",
       "    .dataframe tbody tr th {\n",
       "        vertical-align: top;\n",
       "    }\n",
       "\n",
       "    .dataframe thead th {\n",
       "        text-align: right;\n",
       "    }\n",
       "</style>\n",
       "<table border=\"1\" class=\"dataframe\">\n",
       "  <thead>\n",
       "    <tr style=\"text-align: right;\">\n",
       "      <th></th>\n",
       "      <th>gender</th>\n",
       "      <th>race/ethnicity</th>\n",
       "      <th>parental level of education</th>\n",
       "      <th>lunch</th>\n",
       "      <th>test preparation course</th>\n",
       "      <th>math score</th>\n",
       "      <th>reading score</th>\n",
       "      <th>writing score</th>\n",
       "      <th>Shuffled</th>\n",
       "    </tr>\n",
       "  </thead>\n",
       "  <tbody>\n",
       "    <tr>\n",
       "      <th>0</th>\n",
       "      <td>female</td>\n",
       "      <td>group B</td>\n",
       "      <td>bachelor's degree</td>\n",
       "      <td>standard</td>\n",
       "      <td>none</td>\n",
       "      <td>72</td>\n",
       "      <td>72</td>\n",
       "      <td>74</td>\n",
       "      <td>57</td>\n",
       "    </tr>\n",
       "    <tr>\n",
       "      <th>1</th>\n",
       "      <td>female</td>\n",
       "      <td>group C</td>\n",
       "      <td>some college</td>\n",
       "      <td>standard</td>\n",
       "      <td>completed</td>\n",
       "      <td>69</td>\n",
       "      <td>90</td>\n",
       "      <td>88</td>\n",
       "      <td>90</td>\n",
       "    </tr>\n",
       "    <tr>\n",
       "      <th>2</th>\n",
       "      <td>female</td>\n",
       "      <td>group B</td>\n",
       "      <td>master's degree</td>\n",
       "      <td>standard</td>\n",
       "      <td>none</td>\n",
       "      <td>90</td>\n",
       "      <td>95</td>\n",
       "      <td>93</td>\n",
       "      <td>84</td>\n",
       "    </tr>\n",
       "    <tr>\n",
       "      <th>3</th>\n",
       "      <td>male</td>\n",
       "      <td>group A</td>\n",
       "      <td>associate's degree</td>\n",
       "      <td>free/reduced</td>\n",
       "      <td>none</td>\n",
       "      <td>47</td>\n",
       "      <td>57</td>\n",
       "      <td>44</td>\n",
       "      <td>79</td>\n",
       "    </tr>\n",
       "    <tr>\n",
       "      <th>4</th>\n",
       "      <td>male</td>\n",
       "      <td>group C</td>\n",
       "      <td>some college</td>\n",
       "      <td>standard</td>\n",
       "      <td>none</td>\n",
       "      <td>76</td>\n",
       "      <td>78</td>\n",
       "      <td>75</td>\n",
       "      <td>62</td>\n",
       "    </tr>\n",
       "  </tbody>\n",
       "</table>\n",
       "</div>"
      ],
      "text/plain": [
       "   gender race/ethnicity parental level of education         lunch  \\\n",
       "0  female        group B           bachelor's degree      standard   \n",
       "1  female        group C                some college      standard   \n",
       "2  female        group B             master's degree      standard   \n",
       "3    male        group A          associate's degree  free/reduced   \n",
       "4    male        group C                some college      standard   \n",
       "\n",
       "  test preparation course  math score  reading score  writing score  Shuffled  \n",
       "0                    none          72             72             74        57  \n",
       "1               completed          69             90             88        90  \n",
       "2                    none          90             95             93        84  \n",
       "3                    none          47             57             44        79  \n",
       "4                    none          76             78             75        62  "
      ]
     },
     "execution_count": 18,
     "metadata": {},
     "output_type": "execute_result"
    }
   ],
   "source": [
    "scores[\"Shuffled\"] = shuffle(scores[\"reading score\"])\n",
    "scores.head()"
   ]
  },
  {
   "cell_type": "markdown",
   "metadata": {
    "colab_type": "text",
    "id": "Y0RmecKQh4C-"
   },
   "source": [
    "In the cell below, we will simulate our test statistic many times and collect the differences in an array."
   ]
  },
  {
   "cell_type": "code",
   "execution_count": 19,
   "metadata": {
    "colab": {},
    "colab_type": "code",
    "id": "cJ5isQmb4IKM"
   },
   "outputs": [],
   "source": [
    "#Permutation Test\n",
    "differences = np.array([])\n",
    "\n",
    "repetitions = 5000\n",
    "for i in np.arange(repetitions):\n",
    "    scores[\"Shuffled\"] = shuffle(scores[\"reading score\"])\n",
    "  \n",
    "    # Find the difference between the means of two randomly assigned groups\n",
    "    none = scores[scores['test preparation course'] == 'none']['Shuffled']\n",
    "    completed = scores[scores['test preparation course'] == 'completed']['Shuffled']\n",
    "    simulated_difference = np.mean(completed) - np.mean(none)\n",
    "\n",
    "    differences = np.append(differences, simulated_difference)"
   ]
  },
  {
   "cell_type": "markdown",
   "metadata": {
    "colab_type": "text",
    "id": "0Gi1wO7Lh9VH"
   },
   "source": [
    "Here's a histogram of the simulated difference in means below. We see that majority of the values seem to favor 0:"
   ]
  },
  {
   "cell_type": "code",
   "execution_count": 20,
   "metadata": {
    "colab": {
     "base_uri": "https://localhost:8080/",
     "height": 415
    },
    "colab_type": "code",
    "id": "Zo53TTR68Z38",
    "outputId": "75c35259-c57a-4f96-c2fe-fa29f3fa1755"
   },
   "outputs": [
    {
     "name": "stderr",
     "output_type": "stream",
     "text": [
      "/Users/anjaliunnithan/anaconda3/lib/python3.6/site-packages/matplotlib/axes/_axes.py:6462: UserWarning: The 'normed' kwarg is deprecated, and has been replaced by the 'density' kwarg.\n",
      "  warnings.warn(\"The 'normed' kwarg is deprecated, and has been \"\n"
     ]
    },
    {
     "data": {
      "text/plain": [
       "<matplotlib.axes._subplots.AxesSubplot at 0x1a1bc4a4a8>"
      ]
     },
     "execution_count": 20,
     "metadata": {},
     "output_type": "execute_result"
    },
    {
     "data": {
      "image/png": "[encoded data removed]",
      "text/plain": [
       "<Figure size 432x288 with 1 Axes>"
      ]
     },
     "metadata": {},
     "output_type": "display_data"
    }
   ],
   "source": [
    "sns.distplot(differences)"
   ]
  },
  {
   "cell_type": "markdown",
   "metadata": {
    "colab_type": "text",
    "id": "15lHngemiKOr"
   },
   "source": [
    "Let us now calculate the p-value in order to make a conclusion for this hypothesis test. The p-value in this case would be the proportion of values under the sampling distribution of simulated differences above that are larger or equal to the observed difference. "
   ]
  },
  {
   "cell_type": "code",
   "execution_count": 21,
   "metadata": {
    "colab": {
     "base_uri": "https://localhost:8080/",
     "height": 34
    },
    "colab_type": "code",
    "id": "3DZ7PoaU8s3p",
    "outputId": "c3f890c5-bec3-4a72-b3ad-5d78716c5f0c"
   },
   "outputs": [
    {
     "data": {
      "text/plain": [
       "0.0"
      ]
     },
     "execution_count": 21,
     "metadata": {},
     "output_type": "execute_result"
    }
   ],
   "source": [
    "p_value = np.count_nonzero(differences >= observed_difference) / repetitions\n",
    "p_value"
   ]
  },
  {
   "cell_type": "markdown",
   "metadata": {
    "colab_type": "text",
    "id": "MYlq5IpCnH4e"
   },
   "source": [
    "Due to our p-value being less than the threshold of 0.05, we reject the null hypothesis. "
   ]
  },
  {
   "cell_type": "markdown",
   "metadata": {
    "colab_type": "text",
    "id": "qWIiwK-enReo"
   },
   "source": [
    "We now should compute a confidence interval in order to provide an interval of estimates for our population parameter. We want to estimate the differences of means of the reading scores for those who did and didn't do test preparation."
   ]
  },
  {
   "cell_type": "markdown",
   "metadata": {
    "colab_type": "text",
    "id": "tHdYGa-en6oG"
   },
   "source": [
    "We may use the bootstrap sampling distribution to create a confidence interval which we use to estimate the value of the population parameter. We treat our original data as the bootstrap population to perform the bootstrap procedure:\n",
    "\n",
    "1) Draw a sample with replacement from the test prep students and calculate the mean reading score for these students. We also draw a sample with replacement from the non-test prep students and calculate the mean reading score.\n",
    "\n",
    "2) Calculate the difference in means.\n",
    "\n",
    "3) Repeat the above process 10000 times, obtaining 10000 mean differences.\n",
    "\n",
    "This procedure gives us a empirical sampling distribution of differences in mean reading scores."
   ]
  },
  {
   "cell_type": "code",
   "execution_count": 22,
   "metadata": {
    "colab": {},
    "colab_type": "code",
    "id": "iDpIDGCz9dfD"
   },
   "outputs": [],
   "source": [
    "def resample(sample):\n",
    "    return np.random.choice(sample, size=len(sample))\n",
    "\n",
    "def bootstrap(sample, stat, replicates):\n",
    "    return np.array([\n",
    "        stat(resample(sample)) for _ in range(replicates)\n",
    "    ])"
   ]
  },
  {
   "cell_type": "code",
   "execution_count": 23,
   "metadata": {
    "colab": {},
    "colab_type": "code",
    "id": "rhXnizGK9zJ6"
   },
   "outputs": [],
   "source": [
    "completed_scores = scores[scores['test preparation course'] == 'completed']['reading score']\n",
    "not_completed_scores = scores[scores['test preparation course'] == 'none']['reading score']\n",
    "\n",
    "completed_means = bootstrap(completed_scores, np.mean, 10000)\n",
    "non_completed_means = bootstrap(not_completed_scores, np.mean, 10000)\n",
    "\n",
    "bootstrap_differences = completed_means - non_completed_means\n",
    "\n"
   ]
  },
  {
   "cell_type": "markdown",
   "metadata": {
    "colab_type": "text",
    "id": "vRxIdRRKobKP"
   },
   "source": [
    "Here's a histogram of the empirical distribution of the difference in means:"
   ]
  },
  {
   "cell_type": "code",
   "execution_count": 24,
   "metadata": {
    "colab": {
     "base_uri": "https://localhost:8080/",
     "height": 415
    },
    "colab_type": "code",
    "id": "uluvKNqx-IYz",
    "outputId": "ef2bce91-b37c-4af6-8fc4-6a57792e006f"
   },
   "outputs": [
    {
     "name": "stderr",
     "output_type": "stream",
     "text": [
      "/Users/anjaliunnithan/anaconda3/lib/python3.6/site-packages/matplotlib/axes/_axes.py:6462: UserWarning: The 'normed' kwarg is deprecated, and has been replaced by the 'density' kwarg.\n",
      "  warnings.warn(\"The 'normed' kwarg is deprecated, and has been \"\n"
     ]
    },
    {
     "data": {
      "text/plain": [
       "<matplotlib.axes._subplots.AxesSubplot at 0x1a1bd00a20>"
      ]
     },
     "execution_count": 24,
     "metadata": {},
     "output_type": "execute_result"
    },
    {
     "data": {
      "image/png": "[encoded data removed]",
      "text/plain": [
       "<Figure size 432x288 with 1 Axes>"
      ]
     },
     "metadata": {},
     "output_type": "display_data"
    }
   ],
   "source": [
    "sns.distplot(bootstrap_differences)"
   ]
  },
  {
   "cell_type": "code",
   "execution_count": 25,
   "metadata": {
    "colab": {
     "base_uri": "https://localhost:8080/",
     "height": 34
    },
    "colab_type": "code",
    "id": "P2-qke33-iyS",
    "outputId": "f21c8a33-c6dc-4ca6-8af4-721a8d1019da"
   },
   "outputs": [
    {
     "data": {
      "text/plain": [
       "(5.539379383560447, 9.133983144503036)"
      ]
     },
     "execution_count": 25,
     "metadata": {},
     "output_type": "execute_result"
    }
   ],
   "source": [
    "# Construct 95% confidence interval from bootstrapping\n",
    "(np.percentile(bootstrap_differences, 2.5), \n",
    " np.percentile(bootstrap_differences, 97.5))"
   ]
  },
  {
   "cell_type": "markdown",
   "metadata": {
    "colab_type": "text",
    "id": "s1lyEWMgorDr"
   },
   "source": [
    "This confidence interval allows us to state with 95% confidence that the population mean difference in reading scores is between 5.54 and 9.11."
   ]
  },
  {
   "cell_type": "markdown",
   "metadata": {
    "colab_type": "text",
    "id": "LRN9c4Uvo7Pb"
   },
   "source": [
    "And that concludes our demo on hypothesis testing! Hope you find this useful in your projects and in the near future! Happy coding :)"
   ]
  },
  {
   "cell_type": "code",
   "execution_count": 0,
   "metadata": {
    "colab": {},
    "colab_type": "code",
    "id": "S1Gu2Mf5o_MU"
   },
   "outputs": [],
   "source": []
  }
 ],
 "metadata": {
  "colab": {
   "collapsed_sections": [],
   "name": "Hypothesis Testing General Member Workshop",
   "provenance": [],
   "version": "0.3.2"
  },
  "kernelspec": {
   "display_name": "Python 3",
   "language": "python",
   "name": "python3"
  },
  "language_info": {
   "codemirror_mode": {
    "name": "ipython",
    "version": 3
   },
   "file_extension": ".py",
   "mimetype": "text/x-python",
   "name": "python",
   "nbconvert_exporter": "python",
   "pygments_lexer": "ipython3",
   "version": "3.6.5"
  }
 },
 "nbformat": 4,
 "nbformat_minor": 1
}
