{
 "cells": [
  {
   "cell_type": "markdown",
   "metadata": {
    "colab_type": "text",
    "id": "AGwrWmmEZQzs"
   },
   "source": [
    "# Statistics for Data Science Workshop\n",
    "\n",
    "## Data Science Society @Berkeley | Spring 2019\n",
    "\n",
    "## Thursday, April 18, 2019\n",
    "\n"
   ]
  },
  {
   "cell_type": "markdown",
   "metadata": {
    "colab_type": "text",
    "id": "r6vrHUylZQzt"
   },
   "source": [
    "### Introduction\n",
    "\n",
    "This notebook will be covering: \n",
    "\n",
    "*  Randomization, sampling\n",
    "*  Hypothesis Testing\n",
    "*  P Values\n",
    "*  Probability\n",
    "\n",
    "Throughout this notebook we use a python library called **Pandas** in order to store and display our data. If you would like to learn how to use Pandas in more detail, check out our Python workshop materials: https://tinyurl.com/dsspythonf18\n",
    "\n",
    "https://pypi.python.org/pypi/datascience/\n",
    "\n",
    "\n",
    "To run the cell below, click on \"Run\" above (right under the File Edit View... bar) or do Shift+Enter on your computer. This will run your current cell then move its position to the next one. "
   ]
  },
  {
   "cell_type": "code",
   "execution_count": 2,
   "metadata": {
    "colab": {},
    "colab_type": "code",
    "id": "BD-JQqsSbBNd"
   },
   "outputs": [],
   "source": [
    "import numpy as np\n",
    "import pandas as pd\n",
    "import scipy.stats as stats\n",
    "import seaborn as sns\n",
    "import matplotlib.pyplot as plt"
   ]
  },
  {
   "cell_type": "markdown",
   "metadata": {
    "colab_type": "text",
    "id": "bHlHGpYOeBsK"
   },
   "source": [
    "## The Dataset\n",
    "\n",
    "Let's use the same dataset \"StudentPerformance.csv\" that we used in the Hypothesis Testing Demo. You can find the dataset in the google drive folder!\n",
    "\n",
    "Our dataset comes from Kaggle and contains information about the student, including their identity, education level, and test scores. Let's load it in using pandas and display the first couple of rows. \n",
    "\n",
    "If you would like to see more detailed descriptions of this dataset, click on this link:\n",
    "https://www.kaggle.com/spscientist/students-performance-in-exams\n",
    "\n",
    "\n",
    "### Before running the cell below, follow these steps:\n",
    "\n",
    "1) Download the csv file from the google drive folder. Here is the link again for reference: \n",
    "https://tinyurl.com/statsfordsworkshop\n",
    "\n",
    "2) Make sure Anaconda is downloaded on your computer. Launch the Jupyter Notebook app through Anaconda.\n",
    "\n",
    "3) Once you launch it, the Jupyter Notebook dashboard will pop up.\n",
    "\n",
    "4) Click on the \"Upload\" tab in the top right area.\n",
    "\n",
    "5) Upload the StudentPerformance.csv file. \n"
   ]
  },
  {
   "cell_type": "markdown",
   "metadata": {
    "colab_type": "text",
    "id": "pAvGtfoaIy7V"
   },
   "source": [
    "### Run the cell below (Using Shift+Enter)"
   ]
  },
  {
   "cell_type": "code",
   "execution_count": 7,
   "metadata": {
    "colab": {},
    "colab_type": "code",
    "id": "dLndCu4hWHJL"
   },
   "outputs": [],
   "source": [
    "students = pd.read_csv(\"StudentsPerformance.csv\")"
   ]
  },
  {
   "cell_type": "code",
   "execution_count": 8,
   "metadata": {
    "colab": {},
    "colab_type": "code",
    "id": "7LXQn-b2btBQ"
   },
   "outputs": [
    {
     "data": {
      "text/html": [
       "<div>\n",
       "<style scoped>\n",
       "    .dataframe tbody tr th:only-of-type {\n",
       "        vertical-align: middle;\n",
       "    }\n",
       "\n",
       "    .dataframe tbody tr th {\n",
       "        vertical-align: top;\n",
       "    }\n",
       "\n",
       "    .dataframe thead th {\n",
       "        text-align: right;\n",
       "    }\n",
       "</style>\n",
       "<table border=\"1\" class=\"dataframe\">\n",
       "  <thead>\n",
       "    <tr style=\"text-align: right;\">\n",
       "      <th></th>\n",
       "      <th>gender</th>\n",
       "      <th>race/ethnicity</th>\n",
       "      <th>parental level of education</th>\n",
       "      <th>lunch</th>\n",
       "      <th>test preparation course</th>\n",
       "      <th>math score</th>\n",
       "      <th>reading score</th>\n",
       "      <th>writing score</th>\n",
       "    </tr>\n",
       "  </thead>\n",
       "  <tbody>\n",
       "    <tr>\n",
       "      <th>0</th>\n",
       "      <td>female</td>\n",
       "      <td>group B</td>\n",
       "      <td>bachelor's degree</td>\n",
       "      <td>standard</td>\n",
       "      <td>none</td>\n",
       "      <td>72</td>\n",
       "      <td>72</td>\n",
       "      <td>74</td>\n",
       "    </tr>\n",
       "    <tr>\n",
       "      <th>1</th>\n",
       "      <td>female</td>\n",
       "      <td>group C</td>\n",
       "      <td>some college</td>\n",
       "      <td>standard</td>\n",
       "      <td>completed</td>\n",
       "      <td>69</td>\n",
       "      <td>90</td>\n",
       "      <td>88</td>\n",
       "    </tr>\n",
       "    <tr>\n",
       "      <th>2</th>\n",
       "      <td>female</td>\n",
       "      <td>group B</td>\n",
       "      <td>master's degree</td>\n",
       "      <td>standard</td>\n",
       "      <td>none</td>\n",
       "      <td>90</td>\n",
       "      <td>95</td>\n",
       "      <td>93</td>\n",
       "    </tr>\n",
       "    <tr>\n",
       "      <th>3</th>\n",
       "      <td>male</td>\n",
       "      <td>group A</td>\n",
       "      <td>associate's degree</td>\n",
       "      <td>free/reduced</td>\n",
       "      <td>none</td>\n",
       "      <td>47</td>\n",
       "      <td>57</td>\n",
       "      <td>44</td>\n",
       "    </tr>\n",
       "    <tr>\n",
       "      <th>4</th>\n",
       "      <td>male</td>\n",
       "      <td>group C</td>\n",
       "      <td>some college</td>\n",
       "      <td>standard</td>\n",
       "      <td>none</td>\n",
       "      <td>76</td>\n",
       "      <td>78</td>\n",
       "      <td>75</td>\n",
       "    </tr>\n",
       "  </tbody>\n",
       "</table>\n",
       "</div>"
      ],
      "text/plain": [
       "   gender race/ethnicity parental level of education         lunch  \\\n",
       "0  female        group B           bachelor's degree      standard   \n",
       "1  female        group C                some college      standard   \n",
       "2  female        group B             master's degree      standard   \n",
       "3    male        group A          associate's degree  free/reduced   \n",
       "4    male        group C                some college      standard   \n",
       "\n",
       "  test preparation course  math score  reading score  writing score  \n",
       "0                    none          72             72             74  \n",
       "1               completed          69             90             88  \n",
       "2                    none          90             95             93  \n",
       "3                    none          47             57             44  \n",
       "4                    none          76             78             75  "
      ]
     },
     "execution_count": 8,
     "metadata": {},
     "output_type": "execute_result"
    }
   ],
   "source": [
    "students.head()"
   ]
  },
  {
   "cell_type": "markdown",
   "metadata": {
    "colab_type": "text",
    "id": "jSVUx1Lifa-K"
   },
   "source": [
    "### Exploration\n",
    "The 'gender' column contains the unique values 'female' and 'male'."
   ]
  },
  {
   "cell_type": "code",
   "execution_count": 9,
   "metadata": {
    "colab": {},
    "colab_type": "code",
    "id": "Ak4BdXkCfvIc"
   },
   "outputs": [
    {
     "data": {
      "text/plain": [
       "0    female\n",
       "1    female\n",
       "2    female\n",
       "3      male\n",
       "4      male\n",
       "Name: gender, dtype: object"
      ]
     },
     "execution_count": 9,
     "metadata": {},
     "output_type": "execute_result"
    }
   ],
   "source": [
    "gender = students['gender']\n",
    "gender.head(5)"
   ]
  },
  {
   "cell_type": "markdown",
   "metadata": {
    "colab_type": "text",
    "id": "rArDA-EEgqIh"
   },
   "source": [
    "The 'math score' column contains individual data on student math scores"
   ]
  },
  {
   "cell_type": "code",
   "execution_count": 10,
   "metadata": {
    "colab_type": "text",
    "id": "lyPoQYAZku1O"
   },
   "outputs": [
    {
     "data": {
      "text/plain": [
       "0    72\n",
       "1    69\n",
       "2    90\n",
       "3    47\n",
       "4    76\n",
       "Name: math score, dtype: int64"
      ]
     },
     "execution_count": 10,
     "metadata": {},
     "output_type": "execute_result"
    }
   ],
   "source": [
    "math = students['math score']\n",
    "math.head(5)"
   ]
  },
  {
   "cell_type": "markdown",
   "metadata": {
    "colab_type": "text",
    "id": "GBtS_ejbJcuG"
   },
   "source": [
    "Let's split up the gender column into two series, one with those students who are male and students who are female"
   ]
  },
  {
   "cell_type": "code",
   "execution_count": 12,
   "metadata": {
    "colab": {},
    "colab_type": "code",
    "id": "pfRq9Jh1hEC5"
   },
   "outputs": [],
   "source": [
    "male = students[students['gender'] == 'male']['math score']\n",
    "female = students[students['gender'] == 'female']['math score']"
   ]
  },
  {
   "cell_type": "markdown",
   "metadata": {
    "colab_type": "text",
    "id": "JkGsGcIJfJ6F"
   },
   "source": [
    "Let's visualize the math scores between those who are male and those who are female. Here are the two histograms:"
   ]
  },
  {
   "cell_type": "code",
   "execution_count": 13,
   "metadata": {},
   "outputs": [
    {
     "name": "stderr",
     "output_type": "stream",
     "text": [
      "/Users/anjaliunnithan/anaconda3/lib/python3.6/site-packages/matplotlib/axes/_axes.py:6462: UserWarning: The 'normed' kwarg is deprecated, and has been replaced by the 'density' kwarg.\n",
      "  warnings.warn(\"The 'normed' kwarg is deprecated, and has been \"\n",
      "/Users/anjaliunnithan/anaconda3/lib/python3.6/site-packages/matplotlib/axes/_axes.py:6462: UserWarning: The 'normed' kwarg is deprecated, and has been replaced by the 'density' kwarg.\n",
      "  warnings.warn(\"The 'normed' kwarg is deprecated, and has been \"\n"
     ]
    },
    {
     "data": {
      "text/plain": [
       "<matplotlib.legend.Legend at 0x104cc8908>"
      ]
     },
     "execution_count": 13,
     "metadata": {},
     "output_type": "execute_result"
    },
    {
     "data": {
      "image/png": "[encoded data removed]",
      "text/plain": [
       "<Figure size 432x288 with 1 Axes>"
      ]
     },
     "metadata": {},
     "output_type": "display_data"
    }
   ],
   "source": [
    "import seaborn as sns\n",
    "sns.distplot(male, color=\"skyblue\", label=\"Male\")\n",
    "sns.distplot(female, color=\"green\", label=\"Female\")\n",
    "plt.legend()"
   ]
  },
  {
   "cell_type": "markdown",
   "metadata": {
    "colab_type": "text",
    "id": "5fnnEpZlhRaB"
   },
   "source": [
    "**We would like to see whether whether gender was associated with math scores.**"
   ]
  },
  {
   "cell_type": "markdown",
   "metadata": {
    "colab": {},
    "colab_type": "code",
    "id": "KNb0l9I7hU4x"
   },
   "source": [
    "### Test Statistic\n",
    "We want our test statistic to be the difference between the mean math score of males and mean math score of females. The value below is our \"observed value\" of the test statistic. Large positive values of this statistic will favor the alternative hypothesis because if our difference is quite large, then we can assume that there must be some association with gender and math scores. "
   ]
  },
  {
   "cell_type": "code",
   "execution_count": 15,
   "metadata": {
    "colab_type": "text",
    "id": "0-_86w0oiU7x"
   },
   "outputs": [
    {
     "data": {
      "text/plain": [
       "5.095011134430216"
      ]
     },
     "execution_count": 15,
     "metadata": {},
     "output_type": "execute_result"
    }
   ],
   "source": [
    "observed_difference = np.mean(male) - np.mean(female)\n",
    "observed_difference "
   ]
  },
  {
   "cell_type": "markdown",
   "metadata": {},
   "source": [
    "To set up our hypothesis test, we can represent the two views of the world using the following null and alternative hypotheses:"
   ]
  },
  {
   "cell_type": "markdown",
   "metadata": {},
   "source": [
    "In this cell, write out the appropriate null and alternative hypotheses. Feel free to refer to our demo:\n",
    "\n",
    "Null: ...\n",
    "\n",
    "Alternative: ...\n",
    "\n",
    "(To edit, double click on this cell, and replace the ellipses with your answer)"
   ]
  },
  {
   "cell_type": "markdown",
   "metadata": {
    "colab": {},
    "colab_type": "code",
    "id": "3S3Qq-BuiyKo"
   },
   "source": [
    "In these next steps, we want to determine whether the value above is significant. If there were really no difference between the two distributions in the underlying population, then gender shouldn't affect their math score, therefore should make no difference to the average. \n",
    "\n",
    "To investigate this more, we will simulate the test statistic under the null hypothesis. "
   ]
  },
  {
   "cell_type": "markdown",
   "metadata": {
    "colab_type": "text",
    "id": "OM3_glQxgwQq"
   },
   "source": [
    "**Group Question.** Now which simulation method should we use (shuffling, bootsrapping, etc) and why? Could you give a basic outline of the simulation process?"
   ]
  },
  {
   "cell_type": "markdown",
   "metadata": {
    "colab_type": "text",
    "id": "CftCKfEfjIg_"
   },
   "source": [
    "Now we want to stack the total spending of females on top of the spending of males and put it into a data frame. We do this so we can run our simulation of shuffling for our hypothesis test."
   ]
  },
  {
   "cell_type": "code",
   "execution_count": 24,
   "metadata": {
    "colab_type": "text",
    "id": "EbzoFlN_jvT_"
   },
   "outputs": [],
   "source": [
    "def shuffle(series):\n",
    "    '''\n",
    "    Shuffles a series and resets index to preserve shuffle when adding series\n",
    "    back to DataFrame.\n",
    "    '''\n",
    "    return series.sample(frac=1, replace=False).reset_index(drop=True)"
   ]
  },
  {
   "cell_type": "code",
   "execution_count": 25,
   "metadata": {
    "colab_type": "text",
    "id": "6eu5rP04hQ-H"
   },
   "outputs": [
    {
     "data": {
      "text/html": [
       "<div>\n",
       "<style scoped>\n",
       "    .dataframe tbody tr th:only-of-type {\n",
       "        vertical-align: middle;\n",
       "    }\n",
       "\n",
       "    .dataframe tbody tr th {\n",
       "        vertical-align: top;\n",
       "    }\n",
       "\n",
       "    .dataframe thead th {\n",
       "        text-align: right;\n",
       "    }\n",
       "</style>\n",
       "<table border=\"1\" class=\"dataframe\">\n",
       "  <thead>\n",
       "    <tr style=\"text-align: right;\">\n",
       "      <th></th>\n",
       "      <th>gender</th>\n",
       "      <th>race/ethnicity</th>\n",
       "      <th>parental level of education</th>\n",
       "      <th>lunch</th>\n",
       "      <th>test preparation course</th>\n",
       "      <th>math score</th>\n",
       "      <th>reading score</th>\n",
       "      <th>writing score</th>\n",
       "      <th>Shuffled</th>\n",
       "    </tr>\n",
       "  </thead>\n",
       "  <tbody>\n",
       "    <tr>\n",
       "      <th>0</th>\n",
       "      <td>female</td>\n",
       "      <td>group B</td>\n",
       "      <td>bachelor's degree</td>\n",
       "      <td>standard</td>\n",
       "      <td>none</td>\n",
       "      <td>72</td>\n",
       "      <td>72</td>\n",
       "      <td>74</td>\n",
       "      <td>65</td>\n",
       "    </tr>\n",
       "    <tr>\n",
       "      <th>1</th>\n",
       "      <td>female</td>\n",
       "      <td>group C</td>\n",
       "      <td>some college</td>\n",
       "      <td>standard</td>\n",
       "      <td>completed</td>\n",
       "      <td>69</td>\n",
       "      <td>90</td>\n",
       "      <td>88</td>\n",
       "      <td>35</td>\n",
       "    </tr>\n",
       "    <tr>\n",
       "      <th>2</th>\n",
       "      <td>female</td>\n",
       "      <td>group B</td>\n",
       "      <td>master's degree</td>\n",
       "      <td>standard</td>\n",
       "      <td>none</td>\n",
       "      <td>90</td>\n",
       "      <td>95</td>\n",
       "      <td>93</td>\n",
       "      <td>77</td>\n",
       "    </tr>\n",
       "    <tr>\n",
       "      <th>3</th>\n",
       "      <td>male</td>\n",
       "      <td>group A</td>\n",
       "      <td>associate's degree</td>\n",
       "      <td>free/reduced</td>\n",
       "      <td>none</td>\n",
       "      <td>47</td>\n",
       "      <td>57</td>\n",
       "      <td>44</td>\n",
       "      <td>30</td>\n",
       "    </tr>\n",
       "    <tr>\n",
       "      <th>4</th>\n",
       "      <td>male</td>\n",
       "      <td>group C</td>\n",
       "      <td>some college</td>\n",
       "      <td>standard</td>\n",
       "      <td>none</td>\n",
       "      <td>76</td>\n",
       "      <td>78</td>\n",
       "      <td>75</td>\n",
       "      <td>65</td>\n",
       "    </tr>\n",
       "  </tbody>\n",
       "</table>\n",
       "</div>"
      ],
      "text/plain": [
       "   gender race/ethnicity parental level of education         lunch  \\\n",
       "0  female        group B           bachelor's degree      standard   \n",
       "1  female        group C                some college      standard   \n",
       "2  female        group B             master's degree      standard   \n",
       "3    male        group A          associate's degree  free/reduced   \n",
       "4    male        group C                some college      standard   \n",
       "\n",
       "  test preparation course  math score  reading score  writing score  Shuffled  \n",
       "0                    none          72             72             74        65  \n",
       "1               completed          69             90             88        35  \n",
       "2                    none          90             95             93        77  \n",
       "3                    none          47             57             44        30  \n",
       "4                    none          76             78             75        65  "
      ]
     },
     "execution_count": 25,
     "metadata": {},
     "output_type": "execute_result"
    }
   ],
   "source": [
    "students[\"Shuffled\"] = shuffle(students[\"math score\"])\n",
    "students.head()"
   ]
  },
  {
   "cell_type": "markdown",
   "metadata": {
    "colab_type": "text",
    "id": "0IYC4bXyj_AB"
   },
   "source": [
    "In the cell below, we will simulate our test statistic many times and collect the differences in an array."
   ]
  },
  {
   "cell_type": "code",
   "execution_count": 26,
   "metadata": {
    "colab": {},
    "colab_type": "code",
    "id": "AJ_Ya7-LkCi-"
   },
   "outputs": [],
   "source": [
    "#Permutation Test\n",
    "differences = np.array([])\n",
    "\n",
    "repetitions = 5000\n",
    "for i in np.arange(repetitions):\n",
    "    students[\"Shuffled\"] = shuffle(students[\"math score\"])\n",
    "  \n",
    "    # Find the difference between the means of two randomly assigned groups\n",
    "    male = students[students['gender'] == 'male']['Shuffled']\n",
    "    female = students[students['gender'] == 'female']['Shuffled']\n",
    "    simulated_difference = np.mean(male) - np.mean(female)\n",
    "\n",
    "    differences = np.append(differences, simulated_difference)\n"
   ]
  },
  {
   "cell_type": "markdown",
   "metadata": {
    "colab_type": "text",
    "id": "g_MQHUY0lQh-"
   },
   "source": [
    "Here's a histogram of the simulated difference in means below. What do you observe about the empirical distribution?"
   ]
  },
  {
   "cell_type": "code",
   "execution_count": 27,
   "metadata": {},
   "outputs": [
    {
     "name": "stderr",
     "output_type": "stream",
     "text": [
      "/Users/anjaliunnithan/anaconda3/lib/python3.6/site-packages/matplotlib/axes/_axes.py:6462: UserWarning: The 'normed' kwarg is deprecated, and has been replaced by the 'density' kwarg.\n",
      "  warnings.warn(\"The 'normed' kwarg is deprecated, and has been \"\n"
     ]
    },
    {
     "data": {
      "text/plain": [
       "<matplotlib.axes._subplots.AxesSubplot at 0x1a1615b518>"
      ]
     },
     "execution_count": 27,
     "metadata": {},
     "output_type": "execute_result"
    },
    {
     "data": {
      "image/png": "[encoded data removed]",
      "text/plain": [
       "<Figure size 432x288 with 1 Axes>"
      ]
     },
     "metadata": {},
     "output_type": "display_data"
    }
   ],
   "source": [
    "sns.distplot(differences)"
   ]
  },
  {
   "cell_type": "markdown",
   "metadata": {
    "colab_type": "text",
    "id": "9vJbu4zZogXN"
   },
   "source": [
    "Let us now calculate the p-value in order to make a conclusion for this hypothesis test. The p-value in this case would be the proportion of values under the sampling distribution of simulated differences above that are larger or equal to the observed difference. "
   ]
  },
  {
   "cell_type": "markdown",
   "metadata": {
    "colab_type": "text",
    "id": "dCWDef9viARp"
   },
   "source": [
    "***Group Question***: What is the conclusion of our test and why? Explain.\n",
    "\n",
    "What's our p-value?"
   ]
  },
  {
   "cell_type": "code",
   "execution_count": 29,
   "metadata": {
    "colab": {},
    "colab_type": "code",
    "id": "OqS1MpUbNUFK"
   },
   "outputs": [
    {
     "data": {
      "text/plain": [
       "0.0"
      ]
     },
     "execution_count": 29,
     "metadata": {},
     "output_type": "execute_result"
    }
   ],
   "source": [
    "p_value = np.count_nonzero(differences >= observed_difference) / repetitions\n",
    "p_value"
   ]
  },
  {
   "cell_type": "markdown",
   "metadata": {},
   "source": [
    "What do we conclude with this p value? Do we reject or fail to reject the null?"
   ]
  },
  {
   "cell_type": "markdown",
   "metadata": {
    "colab_type": "text",
    "id": "Gh9t64JlzWz6"
   },
   "source": [
    "## Probabilities"
   ]
  },
  {
   "cell_type": "markdown",
   "metadata": {
    "colab_type": "text",
    "id": "FYvJIKaekFKk"
   },
   "source": [
    "**So what's probability?**\n",
    "\n",
    "\n",
    "Probability is the:\n",
    "*   Chance\n",
    "*   Likelihood\n",
    "\n",
    "of something happening\n"
   ]
  },
  {
   "cell_type": "markdown",
   "metadata": {
    "colab_type": "text",
    "id": "NpngnJhulDwj"
   },
   "source": [
    "**Why do we care?**\n",
    "\n",
    "\n",
    "\n",
    "*   Help us make informed judgment from randomness in life\n",
    "*   Estimations\n",
    "*   Analyze trends\n",
    "*   Statistical Inference\n",
    "\n"
   ]
  },
  {
   "cell_type": "markdown",
   "metadata": {
    "colab_type": "text",
    "id": "a0Xh5hq3kcSn"
   },
   "source": [
    "### Calculating Probability\n",
    "\n",
    "The probability for a certain event $A$to occur is:\n",
    "\n",
    "$$P(A) = \\frac{E}{n}$$ \n",
    "\n",
    "where $P$ is the probability of an event $A$ would occur, \n",
    "\n",
    "$E$ is the number of ways the event $A$ can occur, and\n",
    "\n",
    "$n$ is the total number of outcomes."
   ]
  },
  {
   "cell_type": "markdown",
   "metadata": {
    "colab_type": "text",
    "id": "c7rfg1-Rt5SL"
   },
   "source": [
    "And given a certain probability of something that **would** happen, the probability of it **NOT** happening is:\n",
    "\n",
    "$$P(A^C)=1-P(A)$$\n",
    "\n",
    "where $A^C$ (the complement of event $A$, read as \"A not\" or \"A complement\") is the number of ways event $A$ would not occur."
   ]
  },
  {
   "cell_type": "markdown",
   "metadata": {
    "colab_type": "text",
    "id": "9_XWoCMik_Yx"
   },
   "source": [
    "**Exercise 1.** Given a 6-sided fair dice, what is the probability of getting an even number after rolling once? "
   ]
  },
  {
   "cell_type": "code",
   "execution_count": null,
   "metadata": {
    "colab": {},
    "colab_type": "code",
    "id": "4qBNiNJptVs_"
   },
   "outputs": [],
   "source": [
    "even = ...\n",
    "total_sides = ...\n",
    "P1_even = ...\n",
    "P1_even"
   ]
  },
  {
   "cell_type": "markdown",
   "metadata": {
    "colab_type": "text",
    "id": "a97OnCjBtgUh"
   },
   "source": [
    "**Exercise 2.** If there are 15 red balls, 28 white balls, and 7 black balls in a box, what is the probability of pulling out a ball that is **not red** from this box? "
   ]
  },
  {
   "cell_type": "code",
   "execution_count": null,
   "metadata": {
    "colab": {},
    "colab_type": "code",
    "id": "Gxzpa_hEtf_R"
   },
   "outputs": [],
   "source": [
    "red = ...\n",
    "total_balls = ...\n",
    "P2_not_red = ...\n",
    "P2_not_red"
   ]
  },
  {
   "cell_type": "markdown",
   "metadata": {
    "colab_type": "text",
    "id": "IjA_0xTcztbX"
   },
   "source": [
    "### Basic Sets"
   ]
  },
  {
   "cell_type": "markdown",
   "metadata": {
    "colab_type": "text",
    "id": "10rCtNsYwFpJ"
   },
   "source": [
    "Sometimes we are not only interested in 1 simple event, and we make want to stack up the conditions and calculate their probaiblity.\n",
    "\n",
    "Given 2 **independent** events A and B:\n",
    "\n",
    "$$P(A ∩ B) = P(A) × P(B)$$\n",
    "\n",
    "The probability for both $A$ and $B$ to occur, $P(A ∩ B)$ (\"A intersect B\" or \"A and B\"), is the product of each event's probability to occur independently. \n"
   ]
  },
  {
   "cell_type": "markdown",
   "metadata": {
    "colab_type": "text",
    "id": "x-gMJWs4ykbE"
   },
   "source": [
    "**Exercise 3.** Consider 2 identical boxes with the same mix up of colored balls from above (15 R, 28 W, and 7 B), what is the probability that you will pull a red ball from the one box, and a white ball from the other at the same time?"
   ]
  },
  {
   "cell_type": "code",
   "execution_count": null,
   "metadata": {
    "colab": {},
    "colab_type": "code",
    "id": "8r5Oid4Uzv-r"
   },
   "outputs": [],
   "source": [
    "one_red = ...\n",
    "one_white = ...\n",
    "P3_red_and_white = ...\n",
    "P3_red_and_white"
   ]
  },
  {
   "cell_type": "markdown",
   "metadata": {
    "colab_type": "text",
    "id": "_adVBzyj14yO"
   },
   "source": [
    "Given two **mutually exclusive** (they never happen at the same time) events A and B:\n",
    "\n",
    "$$P(A ∪ B) = P(A) + P(B)$$\n",
    "\n",
    "The probability for either $A$ or $B$ to occur, $P(A ∪ B)$ (\"A union B\" or \"A or B\"), is the sum of each event's probability to occur.\n"
   ]
  },
  {
   "cell_type": "markdown",
   "metadata": {
    "colab_type": "text",
    "id": "m8EHVmp32ymw"
   },
   "source": [
    "**Exercise 4.** Consider only one box with the same color mix up, what is the probability that you will either pull a white or a black from the box?"
   ]
  },
  {
   "cell_type": "code",
   "execution_count": null,
   "metadata": {
    "colab": {},
    "colab_type": "code",
    "id": "p84uo2lI29wt"
   },
   "outputs": [],
   "source": [
    "white = ...\n",
    "black = ...\n",
    "P4_white_or_black = ...\n",
    "P4_white_or_black"
   ]
  },
  {
   "cell_type": "markdown",
   "metadata": {
    "colab_type": "text",
    "id": "psAgSB-p6ZSz"
   },
   "source": [
    "**Challenge:** how do you calculate this for two events that are **NOT** mutually exclusive? Try drawing a venn diagram."
   ]
  },
  {
   "cell_type": "markdown",
   "metadata": {
    "colab_type": "text",
    "id": "k65chpJn29j2"
   },
   "source": [
    "### Conditional Probability\n",
    "\n",
    "Given 2 events A and B:\n",
    "\n",
    "$$P(B|A) = \\frac{P(A ∩ B)}{P(A)}$$\n",
    "\n",
    "The probability of $B$ occurring, given $A$ has already occurred, $P(B|A)$, is given by the probability of $A$ and $B$ both occurring divided by the probability of $A$ occurring alone. "
   ]
  },
  {
   "cell_type": "markdown",
   "metadata": {
    "colab_type": "text",
    "id": "uSLvl7XE5622"
   },
   "source": [
    "**Exercise 5.** Given the same box and same color mix up, what is the probability that you will pull out a white ball after pulling a red ball?"
   ]
  },
  {
   "cell_type": "code",
   "execution_count": null,
   "metadata": {
    "colab": {},
    "colab_type": "code",
    "id": "v_w9ucSZ6DZy"
   },
   "outputs": [],
   "source": [
    "red_and_white = ...\n",
    "red_only = ...\n",
    "P5_white_given_red = ...\n",
    "P5_white_given_red"
   ]
  },
  {
   "cell_type": "markdown",
   "metadata": {
    "colab_type": "text",
    "id": "aMfqNLI76PVe"
   },
   "source": [
    "**Challenge:** what is another way of approaching this problem without using this formula?"
   ]
  },
  {
   "cell_type": "markdown",
   "metadata": {},
   "source": [
    "## And that concludes our notebook. Thank you for attending the workshop!  "
   ]
  }
 ],
 "metadata": {
  "colab": {
   "collapsed_sections": [
    "AGwrWmmEZQzs",
    "VnwYIS4il1Z6",
    "EaKc9aERuA93",
    "wYGruMPTpsIr",
    "XD2XS3lgt9UD",
    "ZAHOKz6Hu2f8"
   ],
   "name": "DSS 11/14 Introductory Statistics.ipynb",
   "provenance": [],
   "version": "0.3.2"
  },
  "kernelspec": {
   "display_name": "Python 3",
   "language": "python",
   "name": "python3"
  },
  "language_info": {
   "codemirror_mode": {
    "name": "ipython",
    "version": 3
   },
   "file_extension": ".py",
   "mimetype": "text/x-python",
   "name": "python",
   "nbconvert_exporter": "python",
   "pygments_lexer": "ipython3",
   "version": "3.6.5"
  }
 },
 "nbformat": 4,
 "nbformat_minor": 1
}
